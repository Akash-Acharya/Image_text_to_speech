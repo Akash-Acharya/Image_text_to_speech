{
 "cells": [
  {
   "cell_type": "code",
   "execution_count": 1,
   "metadata": {},
   "outputs": [],
   "source": [
    "import cv2\n",
    "import pytesseract\n",
    "import os\n",
    "from gtts import gTTS"
   ]
  },
  {
   "cell_type": "code",
   "execution_count": 2,
   "metadata": {},
   "outputs": [],
   "source": [
    "pytesseract.pytesseract.tesseract_cmd = \"C:\\\\Program Files (x86)\\\\Tesseract-OCR\\\\tesseract.exe\"\n",
    "\n",
    "img= cv2.imread(r'C:\\Users\\win10\\Desktop\\New folder (4)\\Data Science\\Major Project\\Project\\500.jpg')\n",
    "img= cv2.cvtColor(img,cv2.COLOR_BGR2RGB)"
   ]
  },
  {
   "cell_type": "code",
   "execution_count": 3,
   "metadata": {},
   "outputs": [
    {
     "name": "stdout",
     "output_type": "stream",
     "text": [
      "T came home from school one Tuesday afternoon when I saw my dad playing with\n",
      "our dog. I and my mother stopped as soon as we walked in because he started\n",
      "pounding towards us of excitement; he startled both of us and made us laugh, As\n",
      "he started to calm down I sat down on our sofa and start watching television, my\n",
      "mother asked me: are you going to gym today, darling?\" As I was about to respond\n",
      "our dog started barking because my sister got home. I laughed and I turned\n",
      "towards my mother and said: of course mother, my teacher is counting on my\n",
      "presence.\" My mother nodded and faced my father again to discuss tonight's\n",
      "dinner. As T waited until they had finished talking T said: Tm going to get ready\n",
      "for gym. My father nodded and started playing with our dog again.\n",
      "\n",
      "Once I was ready I walked towards the kitchen to grab a snack for gym. T got my\n",
      "coat and trainers on and started to walk towards my parents. T gave both of them\n",
      "a peck on their cheek, as T wasn't going to be back for three hours.\n",
      "\n",
      "Once I got to the gym hall T headed towards the girls changing room. There were\n",
      "other young girls in the changing room because it was their lesson next. I was\n",
      "helping my gym teacher with his lessons on Tuesdays but of course with my friends\n",
      "as well. I helped with three lessons first there was the little pre-school children ,\n",
      "then there was the thirteen and alder for boys which you didn't need to help a lot\n",
      "with and the last lesson was the ten years ond older class which was always the\n",
      "best.\n",
      "\n",
      "Once I was ready I walked in the gym hall and saw all of these obstacles ready for\n",
      "the next class, I waved towards toward my friend's two girls from my gym until T\n",
      "saw him. My heart raced and bounced out of my chest, I slowly walked towards my\n",
      "teacher until T felt a sudden pain in my toe. T realised T had tripped over one of\n",
      "the obstacles while walking towards my teacher. He laughed and giggled towards\n",
      "Tack Jack just looked at me with a curious face and asked: are you ol?\" T was\n",
      "struggling to get fo my feet again. I was deeply embarrassed. Once T looked at his\n",
      "dark and deep eyes T just couldn't get the words out of my mouth so instead T just\n",
      "nodded. He laughed ond looked at me with those deep and dark eyes, T felt my face\n",
      "burning up, my head pounding ond my heart racing as fast that it was almost\n",
      "becoming dangerous for my health. He asked me a question which at first T couldn't\n",
      "\n",
      "\n"
     ]
    }
   ],
   "source": [
    "print(pytesseract.image_to_string(img))\n",
    "\n",
    "#cv2.imshow('Result',img)\n",
    "#cv2.waitKey(0)\n",
    "\n",
    "\n",
    "myText = pytesseract.image_to_string(img)"
   ]
  },
  {
   "cell_type": "code",
   "execution_count": 4,
   "metadata": {},
   "outputs": [],
   "source": [
    "test_string = \"\"\"I came home from school on Tuesday afternoon when I saw my dad playing with \n",
    "our dog I and my mother stopped as soon as we walked in because he started \n",
    "pounding towards us of excitement, he startled both of us and mode us laugh. As \n",
    "he started to calm down I sat down on our sofa and start watching television, my \n",
    "mother asked me are you going to gym today, darling As I was about to respond \n",
    "our dog started barking because my sister got home. I laughed and I turned \n",
    "towards my mother and said: of course mother, my teacher is counting on my \n",
    "presence My mother nodded and foced my father again to discuss tonight's \n",
    "dinner. As I waited until they had finished talking I said I'm going to get ready \n",
    "for gym My father nodded and started playing with our dog again\n",
    "\n",
    "Once I was ready I walked towards the kitchen to grab a snack for gym. I got my \n",
    "coat and trainers on and started to walk towards my parents. I gave both of them \n",
    "a peck on their cheek as I wasn't going to be back for three hours.\n",
    "\n",
    "Once I got to the gym hall I headed towards the girls changing room There were \n",
    "other young girls in the changing room because it was their lesson next. I was \n",
    "helping my gym teacher with his lessons on Tuesdays but of course with my friends \n",
    "as well. I helped with three lessons first there was the little pre-school children \n",
    "then there was the thirteen and older for boys which you didn't need to help a lot \n",
    "with and the last lesson was the ten years and older class which was always the \n",
    "best\n",
    "\n",
    "Once I was ready I walked in the gym hall and saw all of these obstacles ready for \n",
    "the next class I waved towards toward my friends two girls from my gym until I \n",
    "San him My heart raced and bounced out of my chest, I slowly walked towards my \n",
    "teacher until I felt a sudden pain in my toe I realised I had tripped over one of \n",
    "the obstacles while walking towards my teacher. He laughed and giggled towards \n",
    "Jock Jack just looked at me with a curious face and asked are you ok I was \n",
    "struggling to get to my feet again. I was deeply embarrassed. Once I looked at his \n",
    "dark and deep eyes I just couldn't get the words out of my mouth so instead I just \n",
    "nodded He laughed and looked at me with those deep and dark eyes I felt my face \n",
    "burning up my head pounding orid my heart racing as fast that it was almost \n",
    "becoming dangerous for my health He asked me a question which at first I couldn't\"\"\""
   ]
  },
  {
   "cell_type": "code",
   "execution_count": 5,
   "metadata": {},
   "outputs": [],
   "source": [
    "\n",
    "def wer(r,h):\n",
    " \n",
    "    # initialisation\n",
    "    import numpy\n",
    "\n",
    "    d = numpy.zeros((len(r) + 1) * (len(h) + 1), dtype=numpy.uint8)\n",
    "    d = d.reshape((len(r) + 1, len(h) + 1))\n",
    "    for i in range(len(r) + 1):\n",
    "        for j in range(len(h) + 1):\n",
    "            if i == 0:\n",
    "                d[0][j] = j\n",
    "            elif j == 0:\n",
    "                d[i][0] = i\n",
    "\n",
    "    # computation\n",
    "    for i in range(1, len(r) + 1):\n",
    "        for j in range(1, len(h) + 1):\n",
    "            if r[i - 1] == h[j - 1]:\n",
    "                d[i][j] = d[i - 1][j - 1]\n",
    "            else:\n",
    "                substitution = d[i - 1][j - 1] + 1\n",
    "                insertion = d[i][j - 1] + 1\n",
    "                deletion = d[i - 1][j] + 1\n",
    "                d[i][j] = min(substitution, insertion, deletion)\n",
    "\n",
    "    return d[len(r)][len(h)]\n",
    "\n",
    "\n",
    "if __name__ == \"__main__\":\n",
    "    import doctest\n",
    "\n",
    "    doctest.testmod()\n",
    "\n",
    "\n"
   ]
  },
  {
   "cell_type": "code",
   "execution_count": 6,
   "metadata": {},
   "outputs": [
    {
     "data": {
      "text/plain": [
       "51"
      ]
     },
     "execution_count": 6,
     "metadata": {},
     "output_type": "execute_result"
    }
   ],
   "source": [
    "wer(test_string.split(),myText.split())"
   ]
  },
  {
   "cell_type": "code",
   "execution_count": 7,
   "metadata": {},
   "outputs": [
    {
     "name": "stdout",
     "output_type": "stream",
     "text": [
      "The number of words in string are : 467\n"
     ]
    }
   ],
   "source": [
    "# printing original string \n",
    "#print(\"The original string is : \" + test_string)\n",
    "\n",
    "# using split() \n",
    "# to count words in string \n",
    "res = len(test_string.split())\n",
    "\n",
    "# printing result \n",
    "print(\"The number of words in string are : \" + str(res))"
   ]
  },
  {
   "cell_type": "code",
   "execution_count": 8,
   "metadata": {},
   "outputs": [
    {
     "name": "stdout",
     "output_type": "stream",
     "text": [
      "Enter WER:51\n",
      "Enter total number of words:467\n"
     ]
    }
   ],
   "source": [
    "wer=int(input(\"Enter WER:\"))\n",
    "N=int(input(\"Enter total number of words:\"))"
   ]
  },
  {
   "cell_type": "code",
   "execution_count": 10,
   "metadata": {},
   "outputs": [
    {
     "name": "stdout",
     "output_type": "stream",
     "text": [
      "Accuracy= 89.07922912205568\n"
     ]
    }
   ],
   "source": [
    "acc=100-(wer/N*100)\n",
    "print(\"Accuracy=\",acc)"
   ]
  },
  {
   "cell_type": "code",
   "execution_count": 11,
   "metadata": {},
   "outputs": [],
   "source": [
    "language = 'en'\n",
    "\n",
    "output = gTTS(text=myText, lang=language, slow=False)\n",
    "\n",
    "output.save(\"output2.mp3\")"
   ]
  },
  {
   "cell_type": "code",
   "execution_count": null,
   "metadata": {},
   "outputs": [],
   "source": [
    "os.system(\"start output2.mp3\")"
   ]
  }
 ],
 "metadata": {
  "kernelspec": {
   "display_name": "Python 3",
   "language": "python",
   "name": "python3"
  },
  "language_info": {
   "codemirror_mode": {
    "name": "ipython",
    "version": 3
   },
   "file_extension": ".py",
   "mimetype": "text/x-python",
   "name": "python",
   "nbconvert_exporter": "python",
   "pygments_lexer": "ipython3",
   "version": "3.7.3"
  }
 },
 "nbformat": 4,
 "nbformat_minor": 4
}
